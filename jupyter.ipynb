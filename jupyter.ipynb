{
  "cells": [
    {
      "cell_type": "markdown",
      "metadata": {
        "id": "view-in-github",
        "colab_type": "text"
      },
      "source": [
        "<a href=\"https://colab.research.google.com/github/viraj-data/viraj-/blob/main/jupyter.ipynb\" target=\"_parent\"><img src=\"https://colab.research.google.com/assets/colab-badge.svg\" alt=\"Open In Colab\"/></a>"
      ]
    },
    {
      "cell_type": "code",
      "execution_count": null,
      "id": "BvcJ9nnKKDrk",
      "metadata": {
        "id": "BvcJ9nnKKDrk"
      },
      "outputs": [],
      "source": [
        "a = \"5\""
      ]
    },
    {
      "cell_type": "code",
      "execution_count": null,
      "id": "Vc5Gxaa_KHUB",
      "metadata": {
        "colab": {
          "base_uri": "https://localhost:8080/"
        },
        "id": "Vc5Gxaa_KHUB",
        "outputId": "267c056b-b501-4cee-ef49-893cf69fa9eb"
      },
      "outputs": [
        {
          "data": {
            "text/plain": [
              "int"
            ]
          },
          "execution_count": 6,
          "metadata": {},
          "output_type": "execute_result"
        }
      ],
      "source": [
        "type(5)"
      ]
    },
    {
      "cell_type": "code",
      "execution_count": null,
      "id": "mCI-4Qy9KU9Z",
      "metadata": {
        "id": "mCI-4Qy9KU9Z"
      },
      "outputs": [],
      "source": [
        "#type casting >> implicit and explicit"
      ]
    },
    {
      "cell_type": "code",
      "execution_count": null,
      "id": "Lv4iZ3AZKcYC",
      "metadata": {
        "id": "Lv4iZ3AZKcYC"
      },
      "outputs": [],
      "source": [
        "x = 2"
      ]
    },
    {
      "cell_type": "code",
      "execution_count": null,
      "id": "d66FQFtLKfCS",
      "metadata": {
        "colab": {
          "base_uri": "https://localhost:8080/"
        },
        "id": "d66FQFtLKfCS",
        "outputId": "217227c8-e893-478f-ec7d-e79264a02ca2"
      },
      "outputs": [
        {
          "data": {
            "text/plain": [
              "int"
            ]
          },
          "execution_count": 8,
          "metadata": {},
          "output_type": "execute_result"
        }
      ],
      "source": [
        "type(2)"
      ]
    },
    {
      "cell_type": "code",
      "execution_count": null,
      "id": "2IqmVXQyKjN8",
      "metadata": {
        "colab": {
          "base_uri": "https://localhost:8080/"
        },
        "id": "2IqmVXQyKjN8",
        "outputId": "b83885e4-e5b9-4c80-e0ec-8277e9ef614a"
      },
      "outputs": [
        {
          "data": {
            "text/plain": [
              "6.5"
            ]
          },
          "execution_count": 9,
          "metadata": {},
          "output_type": "execute_result"
        }
      ],
      "source": [
        "3+3.5"
      ]
    },
    {
      "cell_type": "code",
      "execution_count": null,
      "id": "A1uwoFjkKqAp",
      "metadata": {
        "id": "A1uwoFjkKqAp"
      },
      "outputs": [],
      "source": [
        "a = \"5\""
      ]
    },
    {
      "cell_type": "code",
      "execution_count": null,
      "id": "KvfOihDLKrgi",
      "metadata": {
        "colab": {
          "base_uri": "https://localhost:8080/",
          "height": 35
        },
        "id": "KvfOihDLKrgi",
        "outputId": "fa76dbb8-11a8-478b-8431-77e667c4fdfa"
      },
      "outputs": [
        {
          "data": {
            "application/vnd.google.colaboratory.intrinsic+json": {
              "type": "string"
            },
            "text/plain": [
              "'5'"
            ]
          },
          "execution_count": 11,
          "metadata": {},
          "output_type": "execute_result"
        }
      ],
      "source": [
        "a"
      ]
    },
    {
      "cell_type": "code",
      "execution_count": null,
      "id": "1eRpgBsBKroq",
      "metadata": {
        "colab": {
          "base_uri": "https://localhost:8080/"
        },
        "id": "1eRpgBsBKroq",
        "outputId": "dc6de55b-3734-42fd-f497-a706bb424281"
      },
      "outputs": [
        {
          "data": {
            "text/plain": [
              "str"
            ]
          },
          "execution_count": 12,
          "metadata": {},
          "output_type": "execute_result"
        }
      ],
      "source": [
        "type(a)"
      ]
    },
    {
      "cell_type": "code",
      "execution_count": null,
      "id": "ZBzKU1lYKrwB",
      "metadata": {
        "colab": {
          "base_uri": "https://localhost:8080/",
          "height": 35
        },
        "id": "ZBzKU1lYKrwB",
        "outputId": "6f05f177-dea2-4192-f900-b68b0bb1534c"
      },
      "outputs": [
        {
          "data": {
            "application/vnd.google.colaboratory.intrinsic+json": {
              "type": "string"
            },
            "text/plain": [
              "'rammohan'"
            ]
          },
          "execution_count": 13,
          "metadata": {},
          "output_type": "execute_result"
        }
      ],
      "source": [
        "\"ram\" + \"mohan\""
      ]
    },
    {
      "cell_type": "code",
      "execution_count": null,
      "id": "7f2qryJrKr2p",
      "metadata": {
        "colab": {
          "base_uri": "https://localhost:8080/"
        },
        "id": "7f2qryJrKr2p",
        "outputId": "fe21c8ef-9ca9-4f9d-c8fe-e35ee435fe47"
      },
      "outputs": [
        {
          "data": {
            "text/plain": [
              "str"
            ]
          },
          "execution_count": 14,
          "metadata": {},
          "output_type": "execute_result"
        }
      ],
      "source": [
        "type(a)"
      ]
    },
    {
      "cell_type": "code",
      "execution_count": null,
      "id": "nBHF_M4zLVmy",
      "metadata": {
        "id": "nBHF_M4zLVmy"
      },
      "outputs": [],
      "source": [
        "a = \"20\""
      ]
    },
    {
      "cell_type": "code",
      "execution_count": null,
      "id": "_QS_Ck1cK_Wd",
      "metadata": {
        "colab": {
          "base_uri": "https://localhost:8080/"
        },
        "id": "_QS_Ck1cK_Wd",
        "outputId": "f583ae7b-3055-4120-f80e-830e62788a7b"
      },
      "outputs": [
        {
          "data": {
            "text/plain": [
              "str"
            ]
          },
          "execution_count": 22,
          "metadata": {},
          "output_type": "execute_result"
        }
      ],
      "source": [
        "type(a)"
      ]
    },
    {
      "cell_type": "code",
      "execution_count": null,
      "id": "J4CrfcYcK_dM",
      "metadata": {
        "colab": {
          "base_uri": "https://localhost:8080/",
          "height": 35
        },
        "id": "J4CrfcYcK_dM",
        "outputId": "b9da1bfc-fc48-4b2e-d82a-07fb14e35979"
      },
      "outputs": [
        {
          "data": {
            "application/vnd.google.colaboratory.intrinsic+json": {
              "type": "string"
            },
            "text/plain": [
              "'20honam'"
            ]
          },
          "execution_count": 23,
          "metadata": {},
          "output_type": "execute_result"
        }
      ],
      "source": [
        "a + \"honam\""
      ]
    },
    {
      "cell_type": "code",
      "execution_count": null,
      "id": "ziqQuVItK_jm",
      "metadata": {
        "id": "ziqQuVItK_jm"
      },
      "outputs": [],
      "source": [
        "a = 2"
      ]
    },
    {
      "cell_type": "code",
      "execution_count": null,
      "id": "92QqyLVgM69m",
      "metadata": {
        "colab": {
          "base_uri": "https://localhost:8080/"
        },
        "id": "92QqyLVgM69m",
        "outputId": "9f6b3705-9053-48fd-c86d-ca4a7c7a7890"
      },
      "outputs": [
        {
          "data": {
            "text/plain": [
              "str"
            ]
          },
          "execution_count": 31,
          "metadata": {},
          "output_type": "execute_result"
        }
      ],
      "source": [
        "type(a)"
      ]
    },
    {
      "cell_type": "code",
      "execution_count": null,
      "id": "LyTIfP4TM-c0",
      "metadata": {
        "id": "LyTIfP4TM-c0"
      },
      "outputs": [],
      "source": [
        "a = \"10\""
      ]
    },
    {
      "cell_type": "code",
      "execution_count": null,
      "id": "8GI3_WWbNCIe",
      "metadata": {
        "colab": {
          "base_uri": "https://localhost:8080/"
        },
        "id": "8GI3_WWbNCIe",
        "outputId": "dda16456-d1e9-4443-b5f4-ed4380855860"
      },
      "outputs": [
        {
          "data": {
            "text/plain": [
              "int"
            ]
          },
          "execution_count": 32,
          "metadata": {},
          "output_type": "execute_result"
        }
      ],
      "source": [
        "type(5)"
      ]
    },
    {
      "cell_type": "code",
      "execution_count": null,
      "id": "4tfB4cAjQTMO",
      "metadata": {
        "colab": {
          "base_uri": "https://localhost:8080/"
        },
        "id": "4tfB4cAjQTMO",
        "outputId": "5d9bfbff-a932-4d37-bf32-10756da0dc63"
      },
      "outputs": [
        {
          "data": {
            "text/plain": [
              "int"
            ]
          },
          "execution_count": 33,
          "metadata": {},
          "output_type": "execute_result"
        }
      ],
      "source": []
    },
    {
      "cell_type": "code",
      "execution_count": null,
      "id": "MbzjQcQORRIs",
      "metadata": {
        "id": "MbzjQcQORRIs"
      },
      "outputs": [],
      "source": [
        "x = 1\n",
        "y = 2"
      ]
    },
    {
      "cell_type": "code",
      "execution_count": null,
      "id": "63UzIs_kRXEf",
      "metadata": {
        "colab": {
          "base_uri": "https://localhost:8080/"
        },
        "id": "63UzIs_kRXEf",
        "outputId": "b2fe419a-5d17-474f-f471-9eeaeca434d3"
      },
      "outputs": [
        {
          "data": {
            "text/plain": [
              "2"
            ]
          },
          "execution_count": 35,
          "metadata": {},
          "output_type": "execute_result"
        }
      ],
      "source": [
        "y"
      ]
    },
    {
      "cell_type": "code",
      "execution_count": null,
      "id": "bB3BCz2LRZNf",
      "metadata": {
        "colab": {
          "base_uri": "https://localhost:8080/"
        },
        "id": "bB3BCz2LRZNf",
        "outputId": "6800bb96-546f-4184-a624-e3ab8321983b"
      },
      "outputs": [
        {
          "data": {
            "text/plain": [
              "int"
            ]
          },
          "execution_count": 38,
          "metadata": {},
          "output_type": "execute_result"
        }
      ],
      "source": [
        "type(2)"
      ]
    },
    {
      "cell_type": "code",
      "execution_count": null,
      "id": "UEmQG9FURgT1",
      "metadata": {
        "colab": {
          "base_uri": "https://localhost:8080/"
        },
        "id": "UEmQG9FURgT1",
        "outputId": "89c25813-b7a9-4064-b0e8-19669a541b8b"
      },
      "outputs": [
        {
          "data": {
            "text/plain": [
              "2"
            ]
          },
          "execution_count": 39,
          "metadata": {},
          "output_type": "execute_result"
        }
      ],
      "source": [
        "y"
      ]
    },
    {
      "cell_type": "code",
      "execution_count": null,
      "id": "LYjk_dFXRjEd",
      "metadata": {
        "id": "LYjk_dFXRjEd"
      },
      "outputs": [],
      "source": [
        "a = \"5\"\n",
        "b = str(a)"
      ]
    },
    {
      "cell_type": "code",
      "execution_count": null,
      "id": "EWvlDC0YRjLV",
      "metadata": {
        "colab": {
          "base_uri": "https://localhost:8080/"
        },
        "id": "EWvlDC0YRjLV",
        "outputId": "32b50830-92e8-4bc1-ad39-bb89de802475"
      },
      "outputs": [
        {
          "data": {
            "text/plain": [
              "str"
            ]
          },
          "execution_count": 42,
          "metadata": {},
          "output_type": "execute_result"
        }
      ],
      "source": [
        "type(a)"
      ]
    },
    {
      "cell_type": "code",
      "execution_count": null,
      "id": "UO5TILZZRjR_",
      "metadata": {
        "colab": {
          "base_uri": "https://localhost:8080/",
          "height": 35
        },
        "id": "UO5TILZZRjR_",
        "outputId": "388065ea-d551-45bd-ae6c-ab0e64d33845"
      },
      "outputs": [
        {
          "data": {
            "application/vnd.google.colaboratory.intrinsic+json": {
              "type": "string"
            },
            "text/plain": [
              "'5'"
            ]
          },
          "execution_count": 43,
          "metadata": {},
          "output_type": "execute_result"
        }
      ],
      "source": [
        "a"
      ]
    },
    {
      "cell_type": "code",
      "execution_count": null,
      "id": "_0uSE_e2SLVt",
      "metadata": {
        "colab": {
          "base_uri": "https://localhost:8080/"
        },
        "id": "_0uSE_e2SLVt",
        "outputId": "0b94bced-318c-485d-f026-43edc4d955f2"
      },
      "outputs": [
        {
          "data": {
            "text/plain": [
              "str"
            ]
          },
          "execution_count": 44,
          "metadata": {},
          "output_type": "execute_result"
        }
      ],
      "source": [
        "type(a)"
      ]
    },
    {
      "cell_type": "code",
      "execution_count": null,
      "id": "5gzRsJegSQSl",
      "metadata": {
        "id": "5gzRsJegSQSl"
      },
      "outputs": [],
      "source": [
        "b = int(a)"
      ]
    },
    {
      "cell_type": "code",
      "execution_count": null,
      "id": "aSyOpS8BSZ3e",
      "metadata": {
        "colab": {
          "base_uri": "https://localhost:8080/"
        },
        "id": "aSyOpS8BSZ3e",
        "outputId": "706744f4-ea30-409a-a86e-1878d203de71"
      },
      "outputs": [
        {
          "data": {
            "text/plain": [
              "int"
            ]
          },
          "execution_count": 47,
          "metadata": {},
          "output_type": "execute_result"
        }
      ],
      "source": [
        "type(b)"
      ]
    },
    {
      "cell_type": "code",
      "execution_count": null,
      "id": "1TukGmzMbOvG",
      "metadata": {
        "colab": {
          "base_uri": "https://localhost:8080/"
        },
        "id": "1TukGmzMbOvG",
        "outputId": "01db1da8-b9be-49d4-c9d4-2b18ce79bc5f"
      },
      "outputs": [
        {
          "name": "stdout",
          "output_type": "stream",
          "text": [
            "light :blue\n",
            "not go\n"
          ]
        }
      ],
      "source": [
        "light = input(\"light :\")\n",
        "if(light == \"red\"):\n",
        "  print(\"stop\")\n",
        "elif(light == \"blue\"):\n",
        "    print(\"not go\")\n",
        "elif(light == \"green\"):\n",
        "      print(\"go\")\n",
        "elif(light == \"yello\"):\n",
        "      print(\"look\")\n",
        "else:\n",
        "    print(\"ligt is broken\")"
      ]
    },
    {
      "cell_type": "code",
      "execution_count": null,
      "id": "1hLnk4C8hSBe",
      "metadata": {
        "colab": {
          "base_uri": "https://localhost:8080/"
        },
        "id": "1hLnk4C8hSBe",
        "outputId": "2d0bc734-4dd2-41c4-997f-213ea2c38d75"
      },
      "outputs": [
        {
          "name": "stdout",
          "output_type": "stream",
          "text": [
            "fail\n"
          ]
        }
      ],
      "source": [
        "marks = 20\n",
        "if marks >= 35: # Assuming 35 is the passing mark\n",
        "  print(\"pass\")\n",
        "else:\n",
        "  print(\"fail\")"
      ]
    },
    {
      "cell_type": "code",
      "execution_count": null,
      "id": "qUj6-Ui9mcw-",
      "metadata": {
        "colab": {
          "base_uri": "https://localhost:8080/"
        },
        "id": "qUj6-Ui9mcw-",
        "outputId": "9ae6a582-5c3f-4fbb-c484-e1995cdce46c"
      },
      "outputs": [
        {
          "name": "stdout",
          "output_type": "stream",
          "text": [
            "good night\n"
          ]
        }
      ],
      "source": [
        "hour = 22\n",
        "if hour <= 12:\n",
        "  print(\"good morning\")\n",
        "elif hour <= 17:\n",
        "  print(\"good afternoon\")\n",
        "elif hour <= 21:\n",
        "  print(\"good evening\")\n",
        "else:\n",
        "  print(\"good night\")"
      ]
    },
    {
      "cell_type": "code",
      "execution_count": null,
      "id": "x1UzrWS8nNl_",
      "metadata": {
        "colab": {
          "base_uri": "https://localhost:8080/"
        },
        "id": "x1UzrWS8nNl_",
        "outputId": "5ec0d124-6052-4bdb-ef58-4a4d41375333"
      },
      "outputs": [
        {
          "name": "stdout",
          "output_type": "stream",
          "text": [
            "you are bujurg\n"
          ]
        }
      ],
      "source": [
        "age  = 35\n",
        "if age < 18:\n",
        "  print(\"age is minor\")\n",
        "elif 18<=age<35:\n",
        "  print(\"you are adult\")\n",
        "elif 35<=age<65:\n",
        "  print(\"you are bujurg\")\n",
        "else:\n",
        "  print(\"you are mad\")"
      ]
    },
    {
      "cell_type": "code",
      "execution_count": null,
      "id": "XFJRl5JHow12",
      "metadata": {
        "id": "XFJRl5JHow12"
      },
      "outputs": [],
      "source": []
    },
    {
      "cell_type": "code",
      "execution_count": null,
      "id": "P-C3In3Qdc-e",
      "metadata": {
        "colab": {
          "base_uri": "https://localhost:8080/"
        },
        "id": "P-C3In3Qdc-e",
        "outputId": "60f51eb9-bc10-4642-e8bc-d277b53fbbfd"
      },
      "outputs": [
        {
          "name": "stdout",
          "output_type": "stream",
          "text": [
            "not a allowed\n"
          ]
        }
      ],
      "source": [
        "\n",
        "\n",
        "age = 20\n",
        "if age >= 21:\n",
        "  print(\"allowed\")\n",
        "else:\n",
        "  print(\"not a allowed\")"
      ]
    },
    {
      "cell_type": "code",
      "execution_count": null,
      "id": "JYgAGeaagWqy",
      "metadata": {
        "colab": {
          "base_uri": "https://localhost:8080/"
        },
        "id": "JYgAGeaagWqy",
        "outputId": "2a891cc5-45e6-48d4-ef39-199e7d158387"
      },
      "outputs": [
        {
          "name": "stdout",
          "output_type": "stream",
          "text": [
            "allowed\n"
          ]
        }
      ],
      "source": [
        "age = 22\n",
        "if age >= 21:\n",
        "  print(\"allowed\")\n",
        "else:\n",
        "  print(\"not a allowed\")"
      ]
    },
    {
      "cell_type": "code",
      "source": [
        "a = \"Navneet Kumar\"\n",
        "for char in a:\n",
        "  print(char)\n"
      ],
      "metadata": {
        "colab": {
          "base_uri": "https://localhost:8080/"
        },
        "id": "IqsTSn4p8VeX",
        "outputId": "d537a46a-3c27-4913-8e88-f3f7c0a339c9"
      },
      "id": "IqsTSn4p8VeX",
      "execution_count": null,
      "outputs": [
        {
          "output_type": "stream",
          "name": "stdout",
          "text": [
            "N\n",
            "a\n",
            "v\n",
            "n\n",
            "e\n",
            "e\n",
            "t\n",
            " \n",
            "K\n",
            "u\n",
            "m\n",
            "a\n",
            "r\n"
          ]
        }
      ]
    }
  ],
  "metadata": {
    "colab": {
      "provenance": [],
      "include_colab_link": true
    },
    "kernelspec": {
      "display_name": "Python 3",
      "name": "python3"
    },
    "language_info": {
      "name": "python"
    },
    "required_libs": []
  },
  "nbformat": 4,
  "nbformat_minor": 5
}